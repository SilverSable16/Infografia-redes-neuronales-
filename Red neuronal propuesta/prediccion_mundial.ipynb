{
 "cells": [
  {
   "cell_type": "markdown",
   "id": "580c1e25",
   "metadata": {},
   "source": [
    "# **Red Neuronal Predictora para la Copa del Mundo 2026** #"
   ]
  },
  {
   "cell_type": "markdown",
   "id": "3b5d3e25",
   "metadata": {},
   "source": [
    "## **Importar librerías y cargar datos** ##"
   ]
  },
  {
   "cell_type": "code",
   "execution_count": 6,
   "id": "a7bff613",
   "metadata": {},
   "outputs": [
    {
     "name": "stdout",
     "output_type": "stream",
     "text": [
      "Usando TensorFlow versión: 2.20.0\n"
     ]
    }
   ],
   "source": [
    "import pandas as pd\n",
    "import numpy as np\n",
    "import tensorflow as tf\n",
    "from tensorflow import keras\n",
    "from sklearn.model_selection import train_test_split\n",
    "from sklearn.preprocessing import LabelEncoder\n",
    "from keras.layers import Input, Embedding, Flatten, Concatenate, Dense, Dropout\n",
    "from keras.models import Model\n",
    "\n",
    "print(f\"Usando TensorFlow versión: {tf.__version__}\")\n",
    "\n",
    "url = 'https://github.com/martj42/international_results/raw/master/results.csv'\n",
    "df = pd.read_csv(url)"
   ]
  },
  {
   "cell_type": "markdown",
   "id": "dd6cb0d7",
   "metadata": {},
   "source": [
    "## **Limpieza y tratamiento de datos** ##"
   ]
  },
  {
   "cell_type": "code",
   "execution_count": 7,
   "id": "3a6ae20c",
   "metadata": {},
   "outputs": [],
   "source": [
    "df['date'] = pd.to_datetime(df['date'])\n",
    "df = df[df['date'].dt.year >= 1990].reset_index(drop=True)\n",
    "\n",
    "def get_result(row):\n",
    "    if row['home_score'] > row['away_score']:\n",
    "        return 2\n",
    "    elif row['home_score'] < row['away_score']:\n",
    "        return 0\n",
    "    else:\n",
    "        return 1\n",
    "\n",
    "df['result'] = df.apply(get_result, axis=1)"
   ]
  },
  {
   "cell_type": "markdown",
   "id": "a49eac6f",
   "metadata": {},
   "source": [
    "## **Codificar los equipos y preparar los datos** ##"
   ]
  },
  {
   "cell_type": "code",
   "execution_count": 8,
   "id": "c201170e",
   "metadata": {},
   "outputs": [
    {
     "name": "stdout",
     "output_type": "stream",
     "text": [
      "El modelo ha sido entrenado con 323 equipos en total.\n",
      "Asegúrate de que los nombres en tu simulación coincidan con esta lista.\n"
     ]
    }
   ],
   "source": [
    "all_teams = pd.concat([df['home_team'], df['away_team']]).unique()\n",
    "team_encoder = LabelEncoder().fit(all_teams)\n",
    "\n",
    "df['home_team_encoded'] = team_encoder.transform(df['home_team'])\n",
    "df['away_team_encoded'] = team_encoder.transform(df['away_team'])\n",
    "\n",
    "lista_de_equipos_conocidos = sorted(list(team_encoder.classes_))\n",
    "print(f\"El modelo ha sido entrenado con {len(lista_de_equipos_conocidos)} equipos en total.\")\n",
    "print(\"Asegúrate de que los nombres en tu simulación coincidan con esta lista.\")\n",
    "\n",
    "X = df[['home_team_encoded', 'away_team_encoded']]\n",
    "y = df['result']\n",
    "\n",
    "X_train, X_test, y_train, y_test = train_test_split(X, y, test_size=0.2, random_state=42)"
   ]
  },
  {
   "cell_type": "markdown",
   "id": "d019ccd2",
   "metadata": {},
   "source": [
    "## **Construir el modelo con Embedding** ##"
   ]
  },
  {
   "cell_type": "code",
   "execution_count": 9,
   "id": "abcd1b83",
   "metadata": {},
   "outputs": [
    {
     "name": "stdout",
     "output_type": "stream",
     "text": [
      "\n",
      "--- Resumen de la Arquitectura del Modelo ---\n"
     ]
    },
    {
     "data": {
      "text/html": [
       "<pre style=\"white-space:pre;overflow-x:auto;line-height:normal;font-family:Menlo,'DejaVu Sans Mono',consolas,'Courier New',monospace\"><span style=\"font-weight: bold\">Model: \"functional_1\"</span>\n",
       "</pre>\n"
      ],
      "text/plain": [
       "\u001b[1mModel: \"functional_1\"\u001b[0m\n"
      ]
     },
     "metadata": {},
     "output_type": "display_data"
    },
    {
     "data": {
      "text/html": [
       "<pre style=\"white-space:pre;overflow-x:auto;line-height:normal;font-family:Menlo,'DejaVu Sans Mono',consolas,'Courier New',monospace\">┏━━━━━━━━━━━━━━━━━━━━━┳━━━━━━━━━━━━━━━━━━━┳━━━━━━━━━━━━┳━━━━━━━━━━━━━━━━━━━┓\n",
       "┃<span style=\"font-weight: bold\"> Layer (type)        </span>┃<span style=\"font-weight: bold\"> Output Shape      </span>┃<span style=\"font-weight: bold\">    Param # </span>┃<span style=\"font-weight: bold\"> Connected to      </span>┃\n",
       "┡━━━━━━━━━━━━━━━━━━━━━╇━━━━━━━━━━━━━━━━━━━╇━━━━━━━━━━━━╇━━━━━━━━━━━━━━━━━━━┩\n",
       "│ Entrada_Equipo_Loc… │ (<span style=\"color: #00d7ff; text-decoration-color: #00d7ff\">None</span>, <span style=\"color: #00af00; text-decoration-color: #00af00\">1</span>)         │          <span style=\"color: #00af00; text-decoration-color: #00af00\">0</span> │ -                 │\n",
       "│ (<span style=\"color: #0087ff; text-decoration-color: #0087ff\">InputLayer</span>)        │                   │            │                   │\n",
       "├─────────────────────┼───────────────────┼────────────┼───────────────────┤\n",
       "│ Entrada_Equipo_Vis… │ (<span style=\"color: #00d7ff; text-decoration-color: #00d7ff\">None</span>, <span style=\"color: #00af00; text-decoration-color: #00af00\">1</span>)         │          <span style=\"color: #00af00; text-decoration-color: #00af00\">0</span> │ -                 │\n",
       "│ (<span style=\"color: #0087ff; text-decoration-color: #0087ff\">InputLayer</span>)        │                   │            │                   │\n",
       "├─────────────────────┼───────────────────┼────────────┼───────────────────┤\n",
       "│ Capa_Embedding      │ (<span style=\"color: #00d7ff; text-decoration-color: #00d7ff\">None</span>, <span style=\"color: #00af00; text-decoration-color: #00af00\">1</span>, <span style=\"color: #00af00; text-decoration-color: #00af00\">10</span>)     │      <span style=\"color: #00af00; text-decoration-color: #00af00\">3,230</span> │ Entrada_Equipo_L… │\n",
       "│ (<span style=\"color: #0087ff; text-decoration-color: #0087ff\">Embedding</span>)         │                   │            │ Entrada_Equipo_V… │\n",
       "├─────────────────────┼───────────────────┼────────────┼───────────────────┤\n",
       "│ flatten_2 (<span style=\"color: #0087ff; text-decoration-color: #0087ff\">Flatten</span>) │ (<span style=\"color: #00d7ff; text-decoration-color: #00d7ff\">None</span>, <span style=\"color: #00af00; text-decoration-color: #00af00\">10</span>)        │          <span style=\"color: #00af00; text-decoration-color: #00af00\">0</span> │ Capa_Embedding[<span style=\"color: #00af00; text-decoration-color: #00af00\">0</span>… │\n",
       "├─────────────────────┼───────────────────┼────────────┼───────────────────┤\n",
       "│ flatten_3 (<span style=\"color: #0087ff; text-decoration-color: #0087ff\">Flatten</span>) │ (<span style=\"color: #00d7ff; text-decoration-color: #00d7ff\">None</span>, <span style=\"color: #00af00; text-decoration-color: #00af00\">10</span>)        │          <span style=\"color: #00af00; text-decoration-color: #00af00\">0</span> │ Capa_Embedding[<span style=\"color: #00af00; text-decoration-color: #00af00\">1</span>… │\n",
       "├─────────────────────┼───────────────────┼────────────┼───────────────────┤\n",
       "│ concatenate_1       │ (<span style=\"color: #00d7ff; text-decoration-color: #00d7ff\">None</span>, <span style=\"color: #00af00; text-decoration-color: #00af00\">20</span>)        │          <span style=\"color: #00af00; text-decoration-color: #00af00\">0</span> │ flatten_2[<span style=\"color: #00af00; text-decoration-color: #00af00\">0</span>][<span style=\"color: #00af00; text-decoration-color: #00af00\">0</span>],  │\n",
       "│ (<span style=\"color: #0087ff; text-decoration-color: #0087ff\">Concatenate</span>)       │                   │            │ flatten_3[<span style=\"color: #00af00; text-decoration-color: #00af00\">0</span>][<span style=\"color: #00af00; text-decoration-color: #00af00\">0</span>]   │\n",
       "├─────────────────────┼───────────────────┼────────────┼───────────────────┤\n",
       "│ dense_3 (<span style=\"color: #0087ff; text-decoration-color: #0087ff\">Dense</span>)     │ (<span style=\"color: #00d7ff; text-decoration-color: #00d7ff\">None</span>, <span style=\"color: #00af00; text-decoration-color: #00af00\">128</span>)       │      <span style=\"color: #00af00; text-decoration-color: #00af00\">2,688</span> │ concatenate_1[<span style=\"color: #00af00; text-decoration-color: #00af00\">0</span>]… │\n",
       "├─────────────────────┼───────────────────┼────────────┼───────────────────┤\n",
       "│ dropout_1 (<span style=\"color: #0087ff; text-decoration-color: #0087ff\">Dropout</span>) │ (<span style=\"color: #00d7ff; text-decoration-color: #00d7ff\">None</span>, <span style=\"color: #00af00; text-decoration-color: #00af00\">128</span>)       │          <span style=\"color: #00af00; text-decoration-color: #00af00\">0</span> │ dense_3[<span style=\"color: #00af00; text-decoration-color: #00af00\">0</span>][<span style=\"color: #00af00; text-decoration-color: #00af00\">0</span>]     │\n",
       "├─────────────────────┼───────────────────┼────────────┼───────────────────┤\n",
       "│ dense_4 (<span style=\"color: #0087ff; text-decoration-color: #0087ff\">Dense</span>)     │ (<span style=\"color: #00d7ff; text-decoration-color: #00d7ff\">None</span>, <span style=\"color: #00af00; text-decoration-color: #00af00\">64</span>)        │      <span style=\"color: #00af00; text-decoration-color: #00af00\">8,256</span> │ dropout_1[<span style=\"color: #00af00; text-decoration-color: #00af00\">0</span>][<span style=\"color: #00af00; text-decoration-color: #00af00\">0</span>]   │\n",
       "├─────────────────────┼───────────────────┼────────────┼───────────────────┤\n",
       "│ Capa_Salida (<span style=\"color: #0087ff; text-decoration-color: #0087ff\">Dense</span>) │ (<span style=\"color: #00d7ff; text-decoration-color: #00d7ff\">None</span>, <span style=\"color: #00af00; text-decoration-color: #00af00\">3</span>)         │        <span style=\"color: #00af00; text-decoration-color: #00af00\">195</span> │ dense_4[<span style=\"color: #00af00; text-decoration-color: #00af00\">0</span>][<span style=\"color: #00af00; text-decoration-color: #00af00\">0</span>]     │\n",
       "└─────────────────────┴───────────────────┴────────────┴───────────────────┘\n",
       "</pre>\n"
      ],
      "text/plain": [
       "┏━━━━━━━━━━━━━━━━━━━━━┳━━━━━━━━━━━━━━━━━━━┳━━━━━━━━━━━━┳━━━━━━━━━━━━━━━━━━━┓\n",
       "┃\u001b[1m \u001b[0m\u001b[1mLayer (type)       \u001b[0m\u001b[1m \u001b[0m┃\u001b[1m \u001b[0m\u001b[1mOutput Shape     \u001b[0m\u001b[1m \u001b[0m┃\u001b[1m \u001b[0m\u001b[1m   Param #\u001b[0m\u001b[1m \u001b[0m┃\u001b[1m \u001b[0m\u001b[1mConnected to     \u001b[0m\u001b[1m \u001b[0m┃\n",
       "┡━━━━━━━━━━━━━━━━━━━━━╇━━━━━━━━━━━━━━━━━━━╇━━━━━━━━━━━━╇━━━━━━━━━━━━━━━━━━━┩\n",
       "│ Entrada_Equipo_Loc… │ (\u001b[38;5;45mNone\u001b[0m, \u001b[38;5;34m1\u001b[0m)         │          \u001b[38;5;34m0\u001b[0m │ -                 │\n",
       "│ (\u001b[38;5;33mInputLayer\u001b[0m)        │                   │            │                   │\n",
       "├─────────────────────┼───────────────────┼────────────┼───────────────────┤\n",
       "│ Entrada_Equipo_Vis… │ (\u001b[38;5;45mNone\u001b[0m, \u001b[38;5;34m1\u001b[0m)         │          \u001b[38;5;34m0\u001b[0m │ -                 │\n",
       "│ (\u001b[38;5;33mInputLayer\u001b[0m)        │                   │            │                   │\n",
       "├─────────────────────┼───────────────────┼────────────┼───────────────────┤\n",
       "│ Capa_Embedding      │ (\u001b[38;5;45mNone\u001b[0m, \u001b[38;5;34m1\u001b[0m, \u001b[38;5;34m10\u001b[0m)     │      \u001b[38;5;34m3,230\u001b[0m │ Entrada_Equipo_L… │\n",
       "│ (\u001b[38;5;33mEmbedding\u001b[0m)         │                   │            │ Entrada_Equipo_V… │\n",
       "├─────────────────────┼───────────────────┼────────────┼───────────────────┤\n",
       "│ flatten_2 (\u001b[38;5;33mFlatten\u001b[0m) │ (\u001b[38;5;45mNone\u001b[0m, \u001b[38;5;34m10\u001b[0m)        │          \u001b[38;5;34m0\u001b[0m │ Capa_Embedding[\u001b[38;5;34m0\u001b[0m… │\n",
       "├─────────────────────┼───────────────────┼────────────┼───────────────────┤\n",
       "│ flatten_3 (\u001b[38;5;33mFlatten\u001b[0m) │ (\u001b[38;5;45mNone\u001b[0m, \u001b[38;5;34m10\u001b[0m)        │          \u001b[38;5;34m0\u001b[0m │ Capa_Embedding[\u001b[38;5;34m1\u001b[0m… │\n",
       "├─────────────────────┼───────────────────┼────────────┼───────────────────┤\n",
       "│ concatenate_1       │ (\u001b[38;5;45mNone\u001b[0m, \u001b[38;5;34m20\u001b[0m)        │          \u001b[38;5;34m0\u001b[0m │ flatten_2[\u001b[38;5;34m0\u001b[0m][\u001b[38;5;34m0\u001b[0m],  │\n",
       "│ (\u001b[38;5;33mConcatenate\u001b[0m)       │                   │            │ flatten_3[\u001b[38;5;34m0\u001b[0m][\u001b[38;5;34m0\u001b[0m]   │\n",
       "├─────────────────────┼───────────────────┼────────────┼───────────────────┤\n",
       "│ dense_3 (\u001b[38;5;33mDense\u001b[0m)     │ (\u001b[38;5;45mNone\u001b[0m, \u001b[38;5;34m128\u001b[0m)       │      \u001b[38;5;34m2,688\u001b[0m │ concatenate_1[\u001b[38;5;34m0\u001b[0m]… │\n",
       "├─────────────────────┼───────────────────┼────────────┼───────────────────┤\n",
       "│ dropout_1 (\u001b[38;5;33mDropout\u001b[0m) │ (\u001b[38;5;45mNone\u001b[0m, \u001b[38;5;34m128\u001b[0m)       │          \u001b[38;5;34m0\u001b[0m │ dense_3[\u001b[38;5;34m0\u001b[0m][\u001b[38;5;34m0\u001b[0m]     │\n",
       "├─────────────────────┼───────────────────┼────────────┼───────────────────┤\n",
       "│ dense_4 (\u001b[38;5;33mDense\u001b[0m)     │ (\u001b[38;5;45mNone\u001b[0m, \u001b[38;5;34m64\u001b[0m)        │      \u001b[38;5;34m8,256\u001b[0m │ dropout_1[\u001b[38;5;34m0\u001b[0m][\u001b[38;5;34m0\u001b[0m]   │\n",
       "├─────────────────────┼───────────────────┼────────────┼───────────────────┤\n",
       "│ Capa_Salida (\u001b[38;5;33mDense\u001b[0m) │ (\u001b[38;5;45mNone\u001b[0m, \u001b[38;5;34m3\u001b[0m)         │        \u001b[38;5;34m195\u001b[0m │ dense_4[\u001b[38;5;34m0\u001b[0m][\u001b[38;5;34m0\u001b[0m]     │\n",
       "└─────────────────────┴───────────────────┴────────────┴───────────────────┘\n"
      ]
     },
     "metadata": {},
     "output_type": "display_data"
    },
    {
     "data": {
      "text/html": [
       "<pre style=\"white-space:pre;overflow-x:auto;line-height:normal;font-family:Menlo,'DejaVu Sans Mono',consolas,'Courier New',monospace\"><span style=\"font-weight: bold\"> Total params: </span><span style=\"color: #00af00; text-decoration-color: #00af00\">14,369</span> (56.13 KB)\n",
       "</pre>\n"
      ],
      "text/plain": [
       "\u001b[1m Total params: \u001b[0m\u001b[38;5;34m14,369\u001b[0m (56.13 KB)\n"
      ]
     },
     "metadata": {},
     "output_type": "display_data"
    },
    {
     "data": {
      "text/html": [
       "<pre style=\"white-space:pre;overflow-x:auto;line-height:normal;font-family:Menlo,'DejaVu Sans Mono',consolas,'Courier New',monospace\"><span style=\"font-weight: bold\"> Trainable params: </span><span style=\"color: #00af00; text-decoration-color: #00af00\">14,369</span> (56.13 KB)\n",
       "</pre>\n"
      ],
      "text/plain": [
       "\u001b[1m Trainable params: \u001b[0m\u001b[38;5;34m14,369\u001b[0m (56.13 KB)\n"
      ]
     },
     "metadata": {},
     "output_type": "display_data"
    },
    {
     "data": {
      "text/html": [
       "<pre style=\"white-space:pre;overflow-x:auto;line-height:normal;font-family:Menlo,'DejaVu Sans Mono',consolas,'Courier New',monospace\"><span style=\"font-weight: bold\"> Non-trainable params: </span><span style=\"color: #00af00; text-decoration-color: #00af00\">0</span> (0.00 B)\n",
       "</pre>\n"
      ],
      "text/plain": [
       "\u001b[1m Non-trainable params: \u001b[0m\u001b[38;5;34m0\u001b[0m (0.00 B)\n"
      ]
     },
     "metadata": {},
     "output_type": "display_data"
    }
   ],
   "source": [
    "n_teams = len(team_encoder.classes_)\n",
    "embedding_dim = 10\n",
    "\n",
    "input_home = Input(shape=(1,), name='Entrada_Equipo_Local')\n",
    "input_away = Input(shape=(1,), name='Entrada_Equipo_Visitante')\n",
    "\n",
    "embedding_layer = Embedding(input_dim=n_teams, output_dim=embedding_dim, name='Capa_Embedding')\n",
    "\n",
    "embedded_home = Flatten()(embedding_layer(input_home))\n",
    "embedded_away = Flatten()(embedding_layer(input_away))\n",
    "\n",
    "concat_layer = Concatenate()([embedded_home, embedded_away])\n",
    "\n",
    "dense1 = Dense(128, activation='relu')(concat_layer)\n",
    "dropout1 = Dropout(0.5)(dense1)\n",
    "dense2 = Dense(64, activation='relu')(dropout1)\n",
    "output = Dense(3, activation='softmax', name='Capa_Salida')(dense2)\n",
    "model = Model(inputs=[input_home, input_away], outputs=output)\n",
    "model.compile(optimizer='adam', loss='sparse_categorical_crossentropy', metrics=['accuracy'])\n",
    "\n",
    "print(\"\\n--- Resumen de la Arquitectura del Modelo ---\")\n",
    "model.summary()"
   ]
  },
  {
   "cell_type": "markdown",
   "id": "fcf44dba",
   "metadata": {},
   "source": [
    "## **Entrenar el modelo** ##"
   ]
  },
  {
   "cell_type": "code",
   "execution_count": 10,
   "id": "a2308f65",
   "metadata": {},
   "outputs": [
    {
     "name": "stdout",
     "output_type": "stream",
     "text": [
      "\n",
      "--- Iniciando Entrenamiento ---\n",
      "Epoch 1/20\n",
      "\u001b[1m711/711\u001b[0m \u001b[32m━━━━━━━━━━━━━━━━━━━━\u001b[0m\u001b[37m\u001b[0m \u001b[1m4s\u001b[0m 3ms/step - accuracy: 0.5413 - loss: 0.9663 - val_accuracy: 0.5901 - val_loss: 0.9046\n",
      "Epoch 2/20\n",
      "\u001b[1m711/711\u001b[0m \u001b[32m━━━━━━━━━━━━━━━━━━━━\u001b[0m\u001b[37m\u001b[0m \u001b[1m2s\u001b[0m 2ms/step - accuracy: 0.5830 - loss: 0.9013 - val_accuracy: 0.5976 - val_loss: 0.8926\n",
      "Epoch 3/20\n",
      "\u001b[1m711/711\u001b[0m \u001b[32m━━━━━━━━━━━━━━━━━━━━\u001b[0m\u001b[37m\u001b[0m \u001b[1m3s\u001b[0m 4ms/step - accuracy: 0.5897 - loss: 0.8891 - val_accuracy: 0.5877 - val_loss: 0.8939\n",
      "Epoch 4/20\n",
      "\u001b[1m711/711\u001b[0m \u001b[32m━━━━━━━━━━━━━━━━━━━━\u001b[0m\u001b[37m\u001b[0m \u001b[1m2s\u001b[0m 3ms/step - accuracy: 0.5932 - loss: 0.8831 - val_accuracy: 0.5929 - val_loss: 0.8910\n",
      "Epoch 5/20\n",
      "\u001b[1m711/711\u001b[0m \u001b[32m━━━━━━━━━━━━━━━━━━━━\u001b[0m\u001b[37m\u001b[0m \u001b[1m2s\u001b[0m 3ms/step - accuracy: 0.5927 - loss: 0.8763 - val_accuracy: 0.5933 - val_loss: 0.8943\n",
      "Epoch 6/20\n",
      "\u001b[1m711/711\u001b[0m \u001b[32m━━━━━━━━━━━━━━━━━━━━\u001b[0m\u001b[37m\u001b[0m \u001b[1m2s\u001b[0m 3ms/step - accuracy: 0.5968 - loss: 0.8756 - val_accuracy: 0.5917 - val_loss: 0.8901\n",
      "Epoch 7/20\n",
      "\u001b[1m711/711\u001b[0m \u001b[32m━━━━━━━━━━━━━━━━━━━━\u001b[0m\u001b[37m\u001b[0m \u001b[1m3s\u001b[0m 4ms/step - accuracy: 0.5963 - loss: 0.8711 - val_accuracy: 0.5925 - val_loss: 0.8944\n",
      "Epoch 8/20\n",
      "\u001b[1m711/711\u001b[0m \u001b[32m━━━━━━━━━━━━━━━━━━━━\u001b[0m\u001b[37m\u001b[0m \u001b[1m2s\u001b[0m 3ms/step - accuracy: 0.5987 - loss: 0.8686 - val_accuracy: 0.5945 - val_loss: 0.8965\n",
      "Epoch 9/20\n",
      "\u001b[1m711/711\u001b[0m \u001b[32m━━━━━━━━━━━━━━━━━━━━\u001b[0m\u001b[37m\u001b[0m \u001b[1m2s\u001b[0m 3ms/step - accuracy: 0.5972 - loss: 0.8670 - val_accuracy: 0.5873 - val_loss: 0.8967\n",
      "Epoch 10/20\n",
      "\u001b[1m711/711\u001b[0m \u001b[32m━━━━━━━━━━━━━━━━━━━━\u001b[0m\u001b[37m\u001b[0m \u001b[1m2s\u001b[0m 2ms/step - accuracy: 0.5963 - loss: 0.8650 - val_accuracy: 0.5853 - val_loss: 0.8995\n",
      "Epoch 11/20\n",
      "\u001b[1m711/711\u001b[0m \u001b[32m━━━━━━━━━━━━━━━━━━━━\u001b[0m\u001b[37m\u001b[0m \u001b[1m2s\u001b[0m 2ms/step - accuracy: 0.5979 - loss: 0.8620 - val_accuracy: 0.5857 - val_loss: 0.9037\n",
      "Epoch 12/20\n",
      "\u001b[1m711/711\u001b[0m \u001b[32m━━━━━━━━━━━━━━━━━━━━\u001b[0m\u001b[37m\u001b[0m \u001b[1m2s\u001b[0m 2ms/step - accuracy: 0.6011 - loss: 0.8606 - val_accuracy: 0.5861 - val_loss: 0.9021\n",
      "Epoch 13/20\n",
      "\u001b[1m711/711\u001b[0m \u001b[32m━━━━━━━━━━━━━━━━━━━━\u001b[0m\u001b[37m\u001b[0m \u001b[1m2s\u001b[0m 2ms/step - accuracy: 0.6005 - loss: 0.8580 - val_accuracy: 0.5873 - val_loss: 0.9021\n",
      "Epoch 14/20\n",
      "\u001b[1m711/711\u001b[0m \u001b[32m━━━━━━━━━━━━━━━━━━━━\u001b[0m\u001b[37m\u001b[0m \u001b[1m2s\u001b[0m 3ms/step - accuracy: 0.6036 - loss: 0.8562 - val_accuracy: 0.5842 - val_loss: 0.9057\n",
      "Epoch 15/20\n",
      "\u001b[1m711/711\u001b[0m \u001b[32m━━━━━━━━━━━━━━━━━━━━\u001b[0m\u001b[37m\u001b[0m \u001b[1m2s\u001b[0m 3ms/step - accuracy: 0.6019 - loss: 0.8539 - val_accuracy: 0.5865 - val_loss: 0.9047\n",
      "Epoch 16/20\n",
      "\u001b[1m711/711\u001b[0m \u001b[32m━━━━━━━━━━━━━━━━━━━━\u001b[0m\u001b[37m\u001b[0m \u001b[1m2s\u001b[0m 3ms/step - accuracy: 0.6023 - loss: 0.8515 - val_accuracy: 0.5834 - val_loss: 0.9126\n",
      "Epoch 17/20\n",
      "\u001b[1m711/711\u001b[0m \u001b[32m━━━━━━━━━━━━━━━━━━━━\u001b[0m\u001b[37m\u001b[0m \u001b[1m2s\u001b[0m 2ms/step - accuracy: 0.6040 - loss: 0.8512 - val_accuracy: 0.5885 - val_loss: 0.9009\n",
      "Epoch 18/20\n",
      "\u001b[1m711/711\u001b[0m \u001b[32m━━━━━━━━━━━━━━━━━━━━\u001b[0m\u001b[37m\u001b[0m \u001b[1m2s\u001b[0m 2ms/step - accuracy: 0.6049 - loss: 0.8486 - val_accuracy: 0.5850 - val_loss: 0.9085\n",
      "Epoch 19/20\n",
      "\u001b[1m711/711\u001b[0m \u001b[32m━━━━━━━━━━━━━━━━━━━━\u001b[0m\u001b[37m\u001b[0m \u001b[1m2s\u001b[0m 3ms/step - accuracy: 0.6048 - loss: 0.8490 - val_accuracy: 0.5869 - val_loss: 0.9092\n",
      "Epoch 20/20\n",
      "\u001b[1m711/711\u001b[0m \u001b[32m━━━━━━━━━━━━━━━━━━━━\u001b[0m\u001b[37m\u001b[0m \u001b[1m2s\u001b[0m 2ms/step - accuracy: 0.6088 - loss: 0.8460 - val_accuracy: 0.5846 - val_loss: 0.9111\n",
      "¡Entrenamiento completado!\n"
     ]
    }
   ],
   "source": [
    "print(\"\\n--- Iniciando Entrenamiento ---\")\n",
    "history = model.fit(\n",
    "    [X_train['home_team_encoded'], X_train['away_team_encoded']],\n",
    "    y_train,\n",
    "    epochs=20,\n",
    "    batch_size=32,\n",
    "    validation_split=0.1,\n",
    "    verbose=1\n",
    ")\n",
    "print(\"¡Entrenamiento completado!\")"
   ]
  },
  {
   "cell_type": "markdown",
   "id": "ad12cc87",
   "metadata": {},
   "source": [
    "## **Listado de paises para usar en la prediccion** ##"
   ]
  },
  {
   "cell_type": "code",
   "execution_count": 14,
   "id": "d3d6ecf1",
   "metadata": {},
   "outputs": [
    {
     "name": "stdout",
     "output_type": "stream",
     "text": [
      "\n",
      "--- Configuración de la Simulación ---\n",
      "Número de equipos definidos para el Mundial 2026: 47\n",
      "¡Todo listo para crear los grupos y comenzar a simular el torneo!\n"
     ]
    }
   ],
   "source": [
    "equipos_mundial_2026 = [\n",
    "    'Canada', 'Mexico', 'United States',\n",
    "    'Argentina', 'Brazil', 'Uruguay', 'Colombia', 'Ecuador', 'Peru',\n",
    "    'Germany', 'Spain', 'France', 'England', 'Portugal', 'Netherlands',\n",
    "    'Belgium', 'Croatia', 'Italy', 'Denmark', 'Switzerland', 'Serbia',\n",
    "    'Japan', 'South Korea', 'Saudi Arabia', 'Iran', 'Australia', 'Qatar',\n",
    "    'Morocco', 'Senegal', 'Nigeria', 'Egypt', 'Ghana', 'Cameroon',\n",
    "    'Costa Rica', 'Panama',\n",
    "    'Sweden', 'Poland', 'Austria', 'Norway', 'Chile', 'Paraguay',\n",
    "    'Ivory Coast', 'Algeria', 'Tunisia', 'Mali', 'Iraq', 'Uzbekistan'\n",
    "]\n",
    "\n",
    "print(f\"\\n--- Configuración de la Simulación ---\")\n",
    "print(f\"Número de equipos definidos para el Mundial 2026: {len(equipos_mundial_2026)}\")\n",
    "print(\"¡Todo listo para crear los grupos y comenzar a simular el torneo!\")"
   ]
  },
  {
   "cell_type": "markdown",
   "id": "c028fd58",
   "metadata": {},
   "source": [
    "## **Crear función de predicción y simular un partido** ##"
   ]
  },
  {
   "cell_type": "code",
   "execution_count": 17,
   "id": "d1ceac8a",
   "metadata": {},
   "outputs": [
    {
     "name": "stdout",
     "output_type": "stream",
     "text": [
      "\n",
      "--- Predicción para Spain vs. Morocco ---\n",
      "Prob. Victoria Spain: 67.69%\n",
      "Prob. Empate: 23.25%\n",
      "Prob. Victoria Morocco: 9.06%\n"
     ]
    }
   ],
   "source": [
    "def predict_match(team1, team2, model, encoder):\n",
    "    \"\"\"\n",
    "    Predice el resultado de un partido entre dos equipos.\n",
    "    Devuelve las probabilidades: [Victoria Team2, Empate, Victoria Team1]\n",
    "    \"\"\"\n",
    "    team1_encoded = encoder.transform([team1])\n",
    "    team2_encoded = encoder.transform([team2])\n",
    "   \n",
    "    prediction = model.predict([team1_encoded, team2_encoded], verbose=0)\n",
    "    return prediction[0]\n",
    "\n",
    "team1 = 'Spain'\n",
    "team2 = 'Morocco'\n",
    "probabilities = predict_match(team1, team2, model, team_encoder)\n",
    "\n",
    "print(f\"\\n--- Predicción para {team1} vs. {team2} ---\")\n",
    "print(f\"Prob. Victoria {team1}: {probabilities[2] * 100:.2f}%\")\n",
    "print(f\"Prob. Empate: {probabilities[1] * 100:.2f}%\")\n",
    "print(f\"Prob. Victoria {team2}: {probabilities[0] * 100:.2f}%\")"
   ]
  }
 ],
 "metadata": {
  "kernelspec": {
   "display_name": "Python 3",
   "language": "python",
   "name": "python3"
  },
  "language_info": {
   "codemirror_mode": {
    "name": "ipython",
    "version": 3
   },
   "file_extension": ".py",
   "mimetype": "text/x-python",
   "name": "python",
   "nbconvert_exporter": "python",
   "pygments_lexer": "ipython3",
   "version": "3.12.3"
  }
 },
 "nbformat": 4,
 "nbformat_minor": 5
}
